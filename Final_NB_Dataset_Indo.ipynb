{
  "nbformat": 4,
  "nbformat_minor": 0,
  "metadata": {
    "colab": {
      "name": "Final NB-Dataset Indo.ipynb",
      "provenance": [],
      "collapsed_sections": [],
      "authorship_tag": "ABX9TyOXIAPgVhfXnWnS9ZMrjjAC",
      "include_colab_link": true
    },
    "kernelspec": {
      "name": "python3",
      "display_name": "Python 3"
    },
    "language_info": {
      "name": "python"
    }
  },
  "cells": [
    {
      "cell_type": "markdown",
      "metadata": {
        "id": "view-in-github",
        "colab_type": "text"
      },
      "source": [
        "<a href=\"https://colab.research.google.com/github/Echo271/Statistik/blob/master/Final_NB_Dataset_Indo.ipynb\" target=\"_parent\"><img src=\"https://colab.research.google.com/assets/colab-badge.svg\" alt=\"Open In Colab\"/></a>"
      ]
    },
    {
      "cell_type": "code",
      "metadata": {
        "id": "2q50lpJ6B2nU",
        "colab": {
          "base_uri": "https://localhost:8080/",
          "height": 204
        },
        "outputId": "34451142-0167-4243-d7d4-0a670524952c"
      },
      "source": [
        "import pandas as pd\n",
        "\n",
        "sms = pd.read_csv('/content/Data Training - Sheet 1 (1).csv', sep=',', engine='python')\n",
        "sms = sms[['Teks', 'label']]\n",
        "sms.columns = ['pesan', 'label']\n",
        "sms.tail()"
      ],
      "execution_count": null,
      "outputs": [
        {
          "output_type": "execute_result",
          "data": {
            "text/html": [
              "<div>\n",
              "<style scoped>\n",
              "    .dataframe tbody tr th:only-of-type {\n",
              "        vertical-align: middle;\n",
              "    }\n",
              "\n",
              "    .dataframe tbody tr th {\n",
              "        vertical-align: top;\n",
              "    }\n",
              "\n",
              "    .dataframe thead th {\n",
              "        text-align: right;\n",
              "    }\n",
              "</style>\n",
              "<table border=\"1\" class=\"dataframe\">\n",
              "  <thead>\n",
              "    <tr style=\"text-align: right;\">\n",
              "      <th></th>\n",
              "      <th>pesan</th>\n",
              "      <th>label</th>\n",
              "    </tr>\n",
              "  </thead>\n",
              "  <tbody>\n",
              "    <tr>\n",
              "      <th>794</th>\n",
              "      <td>wah repot kalo asumsinya gitu, kadang ada yg g...</td>\n",
              "      <td>normal</td>\n",
              "    </tr>\n",
              "    <tr>\n",
              "      <th>795</th>\n",
              "      <td>Slmt!! No Anda Men-dptkan Hadiah dr Pengundian...</td>\n",
              "      <td>penipuan</td>\n",
              "    </tr>\n",
              "    <tr>\n",
              "      <th>796</th>\n",
              "      <td>Lingkungan kerjanya berasap. Kalo gak ngerokok...</td>\n",
              "      <td>normal</td>\n",
              "    </tr>\n",
              "    <tr>\n",
              "      <th>797</th>\n",
              "      <td>GRATIS Internetan hg 1000 MB, Nelpon 1000 Meni...</td>\n",
              "      <td>penipuan</td>\n",
              "    </tr>\n",
              "    <tr>\n",
              "      <th>798</th>\n",
              "      <td>RAWIT Kuotanya Bagus, Harganya Khusus. AYO isi...</td>\n",
              "      <td>promo</td>\n",
              "    </tr>\n",
              "  </tbody>\n",
              "</table>\n",
              "</div>"
            ],
            "text/plain": [
              "                                                 pesan     label\n",
              "794  wah repot kalo asumsinya gitu, kadang ada yg g...    normal\n",
              "795  Slmt!! No Anda Men-dptkan Hadiah dr Pengundian...  penipuan\n",
              "796  Lingkungan kerjanya berasap. Kalo gak ngerokok...    normal\n",
              "797  GRATIS Internetan hg 1000 MB, Nelpon 1000 Meni...  penipuan\n",
              "798  RAWIT Kuotanya Bagus, Harganya Khusus. AYO isi...     promo"
            ]
          },
          "metadata": {
            "tags": []
          },
          "execution_count": 1
        }
      ]
    },
    {
      "cell_type": "code",
      "metadata": {
        "id": "twiGU3InCCQm",
        "colab": {
          "base_uri": "https://localhost:8080/"
        },
        "outputId": "87fa4d03-7a40-410c-9b5b-692cd2dd80be"
      },
      "source": [
        "import nltk\n",
        "import re\n",
        "from nltk.corpus import stopwords\n",
        "from nltk.stem.porter import PorterStemmer\n",
        "\n",
        "ps = PorterStemmer()\n",
        "\n",
        "nltk.download(\"stopwords\")"
      ],
      "execution_count": null,
      "outputs": [
        {
          "output_type": "stream",
          "text": [
            "[nltk_data] Downloading package stopwords to /root/nltk_data...\n",
            "[nltk_data]   Unzipping corpora/stopwords.zip.\n"
          ],
          "name": "stdout"
        },
        {
          "output_type": "execute_result",
          "data": {
            "text/plain": [
              "True"
            ]
          },
          "metadata": {
            "tags": []
          },
          "execution_count": 2
        }
      ]
    },
    {
      "cell_type": "code",
      "metadata": {
        "id": "Ocg80yjTCFNq",
        "colab": {
          "base_uri": "https://localhost:8080/"
        },
        "outputId": "bac143f2-5b1d-47c5-c8eb-14132f136196"
      },
      "source": [
        "stop_words = stopwords.words(\"indonesian\")\n",
        "print(len(stop_words))\n",
        "print(stop_words[:10])"
      ],
      "execution_count": null,
      "outputs": [
        {
          "output_type": "stream",
          "text": [
            "758\n",
            "['ada', 'adalah', 'adanya', 'adapun', 'agak', 'agaknya', 'agar', 'akan', 'akankah', 'akhir']\n"
          ],
          "name": "stdout"
        }
      ]
    },
    {
      "cell_type": "code",
      "metadata": {
        "id": "EhYKoMceCHh4"
      },
      "source": [
        "def remove_stopwords(text):\n",
        "    \"\"\"Function to replace stopords with an empty space and removes double spaces\n",
        "    removing all chars other then alphabet and stemming words\n",
        "    \n",
        "    returns: corpus of stemmed words\"\"\"\n",
        "\n",
        "    text = re.sub('^a-zA-Z',' ',text)\n",
        "    text = text.split()\n",
        "    text = [ps.stem(word) for word in text if word not in stop_words]\n",
        "    text = ' '.join(text).replace('  ', ' ')\n",
        "    return text"
      ],
      "execution_count": null,
      "outputs": []
    },
    {
      "cell_type": "code",
      "metadata": {
        "id": "2wYiEhK9CKP9",
        "colab": {
          "base_uri": "https://localhost:8080/",
          "height": 204
        },
        "outputId": "0c33e44b-110e-4a40-a6d6-f87c80b86d43"
      },
      "source": [
        "#Filtering\n",
        "sms['teks_baru']= sms.pesan.apply(remove_stopwords)\n",
        "sms.tail()"
      ],
      "execution_count": null,
      "outputs": [
        {
          "output_type": "execute_result",
          "data": {
            "text/html": [
              "<div>\n",
              "<style scoped>\n",
              "    .dataframe tbody tr th:only-of-type {\n",
              "        vertical-align: middle;\n",
              "    }\n",
              "\n",
              "    .dataframe tbody tr th {\n",
              "        vertical-align: top;\n",
              "    }\n",
              "\n",
              "    .dataframe thead th {\n",
              "        text-align: right;\n",
              "    }\n",
              "</style>\n",
              "<table border=\"1\" class=\"dataframe\">\n",
              "  <thead>\n",
              "    <tr style=\"text-align: right;\">\n",
              "      <th></th>\n",
              "      <th>pesan</th>\n",
              "      <th>label</th>\n",
              "      <th>teks_baru</th>\n",
              "    </tr>\n",
              "  </thead>\n",
              "  <tbody>\n",
              "    <tr>\n",
              "      <th>794</th>\n",
              "      <td>wah repot kalo asumsinya gitu, kadang ada yg g...</td>\n",
              "      <td>normal</td>\n",
              "      <td>repot kalo asumsinya gitu, kadang yg ganti kel...</td>\n",
              "    </tr>\n",
              "    <tr>\n",
              "      <th>795</th>\n",
              "      <td>Slmt!! No Anda Men-dptkan Hadiah dr Pengundian...</td>\n",
              "      <td>penipuan</td>\n",
              "      <td>slmt!! No anda men-dptkan hadiah dr pengundian...</td>\n",
              "    </tr>\n",
              "    <tr>\n",
              "      <th>796</th>\n",
              "      <td>Lingkungan kerjanya berasap. Kalo gak ngerokok...</td>\n",
              "      <td>normal</td>\n",
              "      <td>lingkungan kerjanya berasap. kalo gak ngerokok...</td>\n",
              "    </tr>\n",
              "    <tr>\n",
              "      <th>797</th>\n",
              "      <td>GRATIS Internetan hg 1000 MB, Nelpon 1000 Meni...</td>\n",
              "      <td>penipuan</td>\n",
              "      <td>grati internetan hg 1000 mb, nelpon 1000 menit...</td>\n",
              "    </tr>\n",
              "    <tr>\n",
              "      <th>798</th>\n",
              "      <td>RAWIT Kuotanya Bagus, Harganya Khusus. AYO isi...</td>\n",
              "      <td>promo</td>\n",
              "      <td>rawit kuotanya bagus, harganya khusus. ayo isi...</td>\n",
              "    </tr>\n",
              "  </tbody>\n",
              "</table>\n",
              "</div>"
            ],
            "text/plain": [
              "                                                 pesan  ...                                          teks_baru\n",
              "794  wah repot kalo asumsinya gitu, kadang ada yg g...  ...  repot kalo asumsinya gitu, kadang yg ganti kel...\n",
              "795  Slmt!! No Anda Men-dptkan Hadiah dr Pengundian...  ...  slmt!! No anda men-dptkan hadiah dr pengundian...\n",
              "796  Lingkungan kerjanya berasap. Kalo gak ngerokok...  ...  lingkungan kerjanya berasap. kalo gak ngerokok...\n",
              "797  GRATIS Internetan hg 1000 MB, Nelpon 1000 Meni...  ...  grati internetan hg 1000 mb, nelpon 1000 menit...\n",
              "798  RAWIT Kuotanya Bagus, Harganya Khusus. AYO isi...  ...  rawit kuotanya bagus, harganya khusus. ayo isi...\n",
              "\n",
              "[5 rows x 3 columns]"
            ]
          },
          "metadata": {
            "tags": []
          },
          "execution_count": 5
        }
      ]
    },
    {
      "cell_type": "markdown",
      "metadata": {
        "id": "QPQSuzGzCMlY"
      },
      "source": [
        "Stemming dan Tokenizing dengan matrix"
      ]
    },
    {
      "cell_type": "code",
      "metadata": {
        "id": "OYvdWppQCP1S"
      },
      "source": [
        "# Vectorizing\n",
        "from sklearn.feature_extraction.text import CountVectorizer\n",
        "pesan_promo = [row['pesan'] for index,row in sms.iterrows() if row['label']=='promo']\n",
        "pesan_promo"
      ],
      "execution_count": null,
      "outputs": []
    },
    {
      "cell_type": "code",
      "metadata": {
        "id": "lwFFp9H4CRvv"
      },
      "source": [
        "#vectorizing promo\n",
        "vec_promo = CountVectorizer()\n",
        "x_promo = vec_promo.fit_transform(pesan_promo)\n",
        "\n",
        "tdm_promo = pd.DataFrame(x_promo.toarray(),columns=vec_promo.get_feature_names())\n",
        "tdm_promo"
      ],
      "execution_count": null,
      "outputs": []
    },
    {
      "cell_type": "code",
      "metadata": {
        "id": "hS3hLFRkCUHf"
      },
      "source": [
        "#vectorizing penipuan\n",
        "pesan_penipuan = [row['pesan'] for index,row in sms.iterrows() if row['label']=='penipuan']\n",
        "vec_penipuan = CountVectorizer()\n",
        "x_penipuan = vec_penipuan.fit_transform(pesan_penipuan)\n",
        "\n",
        "tdm_penipuan = pd.DataFrame(x_penipuan.toarray(),columns=vec_penipuan.get_feature_names())\n",
        "tdm_penipuan"
      ],
      "execution_count": null,
      "outputs": []
    },
    {
      "cell_type": "code",
      "metadata": {
        "id": "Ln5i8Q4RHCsv"
      },
      "source": [
        "#vectorizing umum\n",
        "pesan_umum = [row['pesan'] for index,row in sms.iterrows() if row['label']=='normal']\n",
        "vec_umum = CountVectorizer()\n",
        "x_umum = vec_umum.fit_transform(pesan_umum)\n",
        "\n",
        "tdm_umum = pd.DataFrame(x_umum.toarray(),columns=vec_umum.get_feature_names())\n",
        "tdm_umum"
      ],
      "execution_count": null,
      "outputs": []
    },
    {
      "cell_type": "markdown",
      "metadata": {
        "id": "_dJf1LUFHfEP"
      },
      "source": [
        "Pesan Promo"
      ]
    },
    {
      "cell_type": "code",
      "metadata": {
        "id": "u78oDn3sHeu8"
      },
      "source": [
        "#Frequency term \n",
        "list_kata_promo = vec_promo.get_feature_names();\n",
        "hitung_kata_promo = x_promo.toarray().sum(axis=0)\n",
        "freq_promo = dict(zip(list_kata_promo,hitung_kata_promo))\n",
        "list_kata_promo\n",
        "freq_promo"
      ],
      "execution_count": null,
      "outputs": []
    },
    {
      "cell_type": "code",
      "metadata": {
        "id": "7eyBYVETIDZ8"
      },
      "source": [
        "#Persentase term\n",
        "prob_promo = []\n",
        "for word,count in zip(list_kata_promo,hitung_kata_promo):\n",
        "  prob_promo.append(count/len(list_kata_promo))\n",
        "dict(zip(list_kata_promo,prob_promo))"
      ],
      "execution_count": null,
      "outputs": []
    },
    {
      "cell_type": "markdown",
      "metadata": {
        "id": "S78AcyYOIkiz"
      },
      "source": [
        "Pesan Penipuan"
      ]
    },
    {
      "cell_type": "code",
      "metadata": {
        "id": "J3EmKyWgImvP"
      },
      "source": [
        "list_kata_penipuan = vec_penipuan.get_feature_names();\n",
        "hitung_kata_penipuan = x_penipuan.toarray().sum(axis=0)\n",
        "freq_penipuan = dict(zip(list_kata_penipuan,hitung_kata_penipuan))\n",
        "list_kata_penipuan\n",
        "freq_penipuan"
      ],
      "execution_count": null,
      "outputs": []
    },
    {
      "cell_type": "code",
      "metadata": {
        "id": "5Zxm-GMyI3K6"
      },
      "source": [
        "prob_penipuan = []\n",
        "for word,count in zip(list_kata_penipuan,hitung_kata_penipuan):\n",
        "  prob_penipuan.append(count/len(list_kata_penipuan))\n",
        "dict(zip(list_kata_penipuan,prob_penipuan))"
      ],
      "execution_count": null,
      "outputs": []
    },
    {
      "cell_type": "markdown",
      "metadata": {
        "id": "BTxPKYIxJDcL"
      },
      "source": [
        "Pesan Umum"
      ]
    },
    {
      "cell_type": "code",
      "metadata": {
        "id": "Bush8YqFJHnq"
      },
      "source": [
        "list_kata_umum = vec_umum.get_feature_names();\n",
        "hitung_kata_umum = x_umum.toarray().sum(axis=0)\n",
        "freq_umum = dict(zip(list_kata_umum,hitung_kata_umum))\n",
        "list_kata_umum\n",
        "freq_umum"
      ],
      "execution_count": null,
      "outputs": []
    },
    {
      "cell_type": "code",
      "metadata": {
        "id": "ADWeVRq2JWIv"
      },
      "source": [
        "prob_umum = []\n",
        "for word,count in zip(list_kata_umum,hitung_kata_umum):\n",
        "  prob_umum.append(count/len(list_kata_umum))\n",
        "dict(zip(list_kata_umum,prob_umum))"
      ],
      "execution_count": null,
      "outputs": []
    },
    {
      "cell_type": "markdown",
      "metadata": {
        "id": "XxZdYuSeJlu5"
      },
      "source": [
        "Total keseluruhan kata sebagai pembanding"
      ]
    },
    {
      "cell_type": "code",
      "metadata": {
        "id": "8co7DzT4JqH6",
        "colab": {
          "base_uri": "https://localhost:8080/"
        },
        "outputId": "b0af2a5e-6c0b-4b58-faab-c431e48e15e1"
      },
      "source": [
        "text = [row['pesan'] for index,row in sms.iterrows()]\n",
        "vec = CountVectorizer()\n",
        "x = vec.fit_transform(text)\n",
        "\n",
        "total_features = len(vec.get_feature_names())\n",
        "total_features"
      ],
      "execution_count": null,
      "outputs": [
        {
          "output_type": "execute_result",
          "data": {
            "text/plain": [
              "3909"
            ]
          },
          "metadata": {
            "tags": []
          },
          "execution_count": 19
        }
      ]
    },
    {
      "cell_type": "code",
      "metadata": {
        "id": "UW4SMGfxJyAO",
        "colab": {
          "base_uri": "https://localhost:8080/"
        },
        "outputId": "66a4bd0c-859b-4393-973a-9e544d86aedb"
      },
      "source": [
        "total_cnts_features_promo = hitung_kata_promo.sum(axis=0)\n",
        "total_cnts_features_penipuan = hitung_kata_penipuan.sum(axis=0)\n",
        "total_cnts_features_umum = hitung_kata_umum.sum(axis=0)\n",
        "print(total_cnts_features_promo)\n",
        "print(total_cnts_features_penipuan)\n",
        "print(total_cnts_features_umum)"
      ],
      "execution_count": null,
      "outputs": [
        {
          "output_type": "stream",
          "text": [
            "3882\n",
            "5533\n",
            "4742\n"
          ],
          "name": "stdout"
        }
      ]
    },
    {
      "cell_type": "code",
      "metadata": {
        "id": "jaYOPZITKLUU",
        "colab": {
          "base_uri": "https://localhost:8080/"
        },
        "outputId": "4066b35b-3baa-4116-990d-42d56eda3799"
      },
      "source": [
        "nltk.download('punkt')"
      ],
      "execution_count": null,
      "outputs": [
        {
          "output_type": "stream",
          "text": [
            "[nltk_data] Downloading package punkt to /root/nltk_data...\n",
            "[nltk_data]   Unzipping tokenizers/punkt.zip.\n"
          ],
          "name": "stdout"
        },
        {
          "output_type": "execute_result",
          "data": {
            "text/plain": [
              "True"
            ]
          },
          "metadata": {
            "tags": []
          },
          "execution_count": 20
        }
      ]
    },
    {
      "cell_type": "markdown",
      "metadata": {
        "id": "txpaqeW3KSBp"
      },
      "source": [
        "Upload File Uji"
      ]
    },
    {
      "cell_type": "code",
      "metadata": {
        "id": "rFX5abzVKYEg",
        "colab": {
          "base_uri": "https://localhost:8080/",
          "height": 204
        },
        "outputId": "055358c3-e965-47dd-99bc-5b9fc0bc2c20"
      },
      "source": [
        "datatest = pd.read_csv('/content/Data uji - Sheet1 (1).csv', sep=',', engine='python')\n",
        "datatest = datatest[['Teks','label']]\n",
        "datatest.columns = ['pesan','label']\n",
        "datatest.tail()"
      ],
      "execution_count": null,
      "outputs": [
        {
          "output_type": "execute_result",
          "data": {
            "text/html": [
              "<div>\n",
              "<style scoped>\n",
              "    .dataframe tbody tr th:only-of-type {\n",
              "        vertical-align: middle;\n",
              "    }\n",
              "\n",
              "    .dataframe tbody tr th {\n",
              "        vertical-align: top;\n",
              "    }\n",
              "\n",
              "    .dataframe thead th {\n",
              "        text-align: right;\n",
              "    }\n",
              "</style>\n",
              "<table border=\"1\" class=\"dataframe\">\n",
              "  <thead>\n",
              "    <tr style=\"text-align: right;\">\n",
              "      <th></th>\n",
              "      <th>pesan</th>\n",
              "      <th>label</th>\n",
              "    </tr>\n",
              "  </thead>\n",
              "  <tbody>\n",
              "    <tr>\n",
              "      <th>337</th>\n",
              "      <td>5 HARI LAGI ! EKSTRA Pulsa 50rb dg beli paket ...</td>\n",
              "      <td>promo</td>\n",
              "    </tr>\n",
              "    <tr>\n",
              "      <th>338</th>\n",
              "      <td>Mau cepat dan ga mau ribet cek pulsa &amp; sisa ku...</td>\n",
              "      <td>promo</td>\n",
              "    </tr>\n",
              "    <tr>\n",
              "      <th>339</th>\n",
              "      <td>MAU BONUS PULSA 50% dari Indosat Ooredoo?? Ket...</td>\n",
              "      <td>promo</td>\n",
              "    </tr>\n",
              "    <tr>\n",
              "      <th>340</th>\n",
              "      <td>SELAMAT Anda sebagai pemenang promo UNDIAN POP...</td>\n",
              "      <td>penipuan</td>\n",
              "    </tr>\n",
              "    <tr>\n",
              "      <th>341</th>\n",
              "      <td>Ayo dukung pelestarian alam Indonesia bersama ...</td>\n",
              "      <td>promo</td>\n",
              "    </tr>\n",
              "  </tbody>\n",
              "</table>\n",
              "</div>"
            ],
            "text/plain": [
              "                                                 pesan     label\n",
              "337  5 HARI LAGI ! EKSTRA Pulsa 50rb dg beli paket ...     promo\n",
              "338  Mau cepat dan ga mau ribet cek pulsa & sisa ku...     promo\n",
              "339  MAU BONUS PULSA 50% dari Indosat Ooredoo?? Ket...     promo\n",
              "340  SELAMAT Anda sebagai pemenang promo UNDIAN POP...  penipuan\n",
              "341  Ayo dukung pelestarian alam Indonesia bersama ...     promo"
            ]
          },
          "metadata": {
            "tags": []
          },
          "execution_count": 21
        }
      ]
    },
    {
      "cell_type": "code",
      "metadata": {
        "id": "uFi1QfNHKwhP"
      },
      "source": [
        "from nltk.tokenize import word_tokenize\n",
        "\n",
        "def pesan(text):\n",
        "  new_sentence = text\n",
        "  new_word_list = word_tokenize(new_sentence) #tokenize data uji\n",
        "  return new_word_list\n",
        "\n",
        "def pred_promo(wd): \n",
        "  list_kata_baru = wd\n",
        "  prob_promo_with_ls = []\n",
        "  for word in list_kata_baru:\n",
        "    if word in freq_promo.keys():\n",
        "      count = freq_promo[word]\n",
        "    else:\n",
        "      count = 0\n",
        "    prob_promo_with_ls.append((count + 1)/(total_cnts_features_promo + total_features))\n",
        "  return prob_promo_with_ls\n",
        "\n",
        "def pred_penipuan(wd):\n",
        "  list_kata_baru = wd\n",
        "  prob_penipuan_with_ls = []\n",
        "  for word in list_kata_baru:\n",
        "    if word in freq_penipuan.keys():\n",
        "      count = freq_penipuan[word]\n",
        "    else:\n",
        "      count = 0\n",
        "    prob_penipuan_with_ls.append((count + 1)/(total_cnts_features_penipuan + total_features))\n",
        "  return prob_penipuan_with_ls\n",
        "\n",
        "def pred_umum(wd):\n",
        "  list_kata_baru = wd\n",
        "  prob_umum_with_ls = []\n",
        "  for word in list_kata_baru:\n",
        "    if word in freq_umum.keys():\n",
        "      count = freq_umum[word]\n",
        "    else:\n",
        "      count = 0\n",
        "    prob_umum_with_ls.append((count + 1)/(total_cnts_features_umum + total_features))\n",
        "  return prob_umum_with_ls\n",
        "\n",
        "def nilai_promo(n):\n",
        "  prob_promo_with_ls = n\n",
        "  i = 0\n",
        "  prob_pesan_promo = 1\n",
        "  for i in range(len(prob_promo_with_ls)):\n",
        "    prob_pesan_promo = prob_pesan_promo*prob_promo_with_ls[i]\n",
        "  return prob_pesan_promo\n",
        "\n",
        "def nilai_penipuan(n):\n",
        "  prob_penipuan_with_ls = n\n",
        "  i = 0\n",
        "  prob_pesan_penipuan = 1\n",
        "  for i in range(len(prob_penipuan_with_ls)):\n",
        "    prob_pesan_penipuan = prob_pesan_penipuan*prob_penipuan_with_ls[i]\n",
        "  return prob_pesan_penipuan\n",
        "\n",
        "def nilai_umum(n):\n",
        "  prob_umum_with_ls = n\n",
        "  i = 0\n",
        "  prob_pesan_umum = 1\n",
        "  for i in range(len(prob_umum_with_ls)):\n",
        "    prob_pesan_umum = prob_pesan_umum*prob_umum_with_ls[i]\n",
        "  return prob_pesan_umum\n",
        "\n",
        "def hasil(text,pr,pn,um):\n",
        "  new_sentence = text\n",
        "  prob_pesan_promo = pr\n",
        "  prob_pesan_penipuan = pn\n",
        "  prob_pesan_umum = um\n",
        "\n",
        "  promo = prob_pesan_promo*0.5\n",
        "  penipuan = prob_pesan_penipuan*0.5\n",
        "  umum = prob_pesan_umum*0.5\n",
        "\n",
        "  if (promo > penipuan and promo > umum):\n",
        "    prediksi = 'promo'\n",
        "  elif (penipuan > promo and penipuan > umum):\n",
        "    prediksi = 'penipuan'\n",
        "  else:\n",
        "    prediksi = 'normal'\n",
        "  return prediksi"
      ],
      "execution_count": null,
      "outputs": []
    },
    {
      "cell_type": "code",
      "metadata": {
        "id": "UTrraYpEOSrX"
      },
      "source": [
        "def runNb(text):\n",
        " pesan(text)\n",
        " pred_promo(pesan(text))\n",
        " pred_penipuan(pesan(text))\n",
        " pred_umum(pesan(text))\n",
        " nilai_promo(pred_promo(pesan(text)))\n",
        " nilai_penipuan(pred_penipuan(pesan(text)))\n",
        " nilai_umum(pred_umum(pesan(text)))\n",
        " hasil(text,nilai_promo(pred_promo(pesan(text))),nilai_penipuan(pred_penipuan(pesan(text))),nilai_umum(pred_umum(pesan(text))))\n",
        " return hasil(text,nilai_promo(pred_promo(pesan(text))),nilai_penipuan(pred_penipuan(pesan(text))),nilai_umum(pred_umum(pesan(text))))"
      ],
      "execution_count": null,
      "outputs": []
    },
    {
      "cell_type": "code",
      "metadata": {
        "id": "SdbQJdMKPL0N",
        "colab": {
          "base_uri": "https://localhost:8080/",
          "height": 419
        },
        "outputId": "cae6ef6a-0ee8-49a8-ca1f-3d30ed0d8728"
      },
      "source": [
        "datatest['prediksi'] = datatest.pesan.apply(runNb)\n",
        "datatest"
      ],
      "execution_count": null,
      "outputs": [
        {
          "output_type": "execute_result",
          "data": {
            "text/html": [
              "<div>\n",
              "<style scoped>\n",
              "    .dataframe tbody tr th:only-of-type {\n",
              "        vertical-align: middle;\n",
              "    }\n",
              "\n",
              "    .dataframe tbody tr th {\n",
              "        vertical-align: top;\n",
              "    }\n",
              "\n",
              "    .dataframe thead th {\n",
              "        text-align: right;\n",
              "    }\n",
              "</style>\n",
              "<table border=\"1\" class=\"dataframe\">\n",
              "  <thead>\n",
              "    <tr style=\"text-align: right;\">\n",
              "      <th></th>\n",
              "      <th>pesan</th>\n",
              "      <th>label</th>\n",
              "      <th>prediksi</th>\n",
              "    </tr>\n",
              "  </thead>\n",
              "  <tbody>\n",
              "    <tr>\n",
              "      <th>0</th>\n",
              "      <td>Saya blm dpt ttd nama1. Paling kalian duluan a...</td>\n",
              "      <td>normal</td>\n",
              "      <td>normal</td>\n",
              "    </tr>\n",
              "    <tr>\n",
              "      <th>1</th>\n",
              "      <td>MURAH! Hanya Rp25rb dptkan 2GB paket interneta...</td>\n",
              "      <td>promo</td>\n",
              "      <td>promo</td>\n",
              "    </tr>\n",
              "    <tr>\n",
              "      <th>2</th>\n",
              "      <td>Tersrrah aja. Pagi juga nggak pa2</td>\n",
              "      <td>normal</td>\n",
              "      <td>normal</td>\n",
              "    </tr>\n",
              "    <tr>\n",
              "      <th>3</th>\n",
              "      <td>Pilihannya hemat 2 jt atau lulus oct kan nanggung</td>\n",
              "      <td>normal</td>\n",
              "      <td>normal</td>\n",
              "    </tr>\n",
              "    <tr>\n",
              "      <th>4</th>\n",
              "      <td>ini nomor baru papa, tolong kirimin pulsa 50.0...</td>\n",
              "      <td>penipuan</td>\n",
              "      <td>normal</td>\n",
              "    </tr>\n",
              "    <tr>\n",
              "      <th>...</th>\n",
              "      <td>...</td>\n",
              "      <td>...</td>\n",
              "      <td>...</td>\n",
              "    </tr>\n",
              "    <tr>\n",
              "      <th>337</th>\n",
              "      <td>5 HARI LAGI ! EKSTRA Pulsa 50rb dg beli paket ...</td>\n",
              "      <td>promo</td>\n",
              "      <td>promo</td>\n",
              "    </tr>\n",
              "    <tr>\n",
              "      <th>338</th>\n",
              "      <td>Mau cepat dan ga mau ribet cek pulsa &amp; sisa ku...</td>\n",
              "      <td>promo</td>\n",
              "      <td>promo</td>\n",
              "    </tr>\n",
              "    <tr>\n",
              "      <th>339</th>\n",
              "      <td>MAU BONUS PULSA 50% dari Indosat Ooredoo?? Ket...</td>\n",
              "      <td>promo</td>\n",
              "      <td>promo</td>\n",
              "    </tr>\n",
              "    <tr>\n",
              "      <th>340</th>\n",
              "      <td>SELAMAT Anda sebagai pemenang promo UNDIAN POP...</td>\n",
              "      <td>penipuan</td>\n",
              "      <td>penipuan</td>\n",
              "    </tr>\n",
              "    <tr>\n",
              "      <th>341</th>\n",
              "      <td>Ayo dukung pelestarian alam Indonesia bersama ...</td>\n",
              "      <td>promo</td>\n",
              "      <td>promo</td>\n",
              "    </tr>\n",
              "  </tbody>\n",
              "</table>\n",
              "<p>342 rows × 3 columns</p>\n",
              "</div>"
            ],
            "text/plain": [
              "                                                 pesan     label  prediksi\n",
              "0    Saya blm dpt ttd nama1. Paling kalian duluan a...    normal    normal\n",
              "1    MURAH! Hanya Rp25rb dptkan 2GB paket interneta...     promo     promo\n",
              "2                    Tersrrah aja. Pagi juga nggak pa2    normal    normal\n",
              "3    Pilihannya hemat 2 jt atau lulus oct kan nanggung    normal    normal\n",
              "4    ini nomor baru papa, tolong kirimin pulsa 50.0...  penipuan    normal\n",
              "..                                                 ...       ...       ...\n",
              "337  5 HARI LAGI ! EKSTRA Pulsa 50rb dg beli paket ...     promo     promo\n",
              "338  Mau cepat dan ga mau ribet cek pulsa & sisa ku...     promo     promo\n",
              "339  MAU BONUS PULSA 50% dari Indosat Ooredoo?? Ket...     promo     promo\n",
              "340  SELAMAT Anda sebagai pemenang promo UNDIAN POP...  penipuan  penipuan\n",
              "341  Ayo dukung pelestarian alam Indonesia bersama ...     promo     promo\n",
              "\n",
              "[342 rows x 3 columns]"
            ]
          },
          "metadata": {
            "tags": []
          },
          "execution_count": 24
        }
      ]
    },
    {
      "cell_type": "code",
      "metadata": {
        "colab": {
          "base_uri": "https://localhost:8080/"
        },
        "id": "gign6oFZecSM",
        "outputId": "1d479b82-2d9a-405c-a7f8-9052a543a933"
      },
      "source": [
        "betul = 0\n",
        "salah = 0\n",
        "total = 0\n",
        "for i in range(len(datatest)):\n",
        "  if (datatest['label'][i] == datatest['prediksi'][i]):\n",
        "    betul += 1\n",
        "  else:\n",
        "    salah += 1\n",
        "  total += 1\n",
        "\n",
        "print(\"Benar = \", betul)\n",
        "print(\"salah = \", salah)\n",
        "print(\"Tingkat akurasi = \", betul/total*100,\"%\")"
      ],
      "execution_count": null,
      "outputs": [
        {
          "output_type": "stream",
          "text": [
            "Benar =  269\n",
            "salah =  73\n",
            "Tingkat akurasi =  78.65497076023392 %\n"
          ],
          "name": "stdout"
        }
      ]
    },
    {
      "cell_type": "code",
      "metadata": {
        "id": "LyLUl4T1ZbIa",
        "colab": {
          "base_uri": "https://localhost:8080/",
          "height": 17
        },
        "outputId": "5cfeaf32-a0eb-4320-aa3f-a010bc6a6745"
      },
      "source": [
        "hasil_pred = datatest.to_csv('Data hasil prediksi.csv', index=False)\n",
        "\n",
        "from google.colab import files\n",
        "files.download(\"Data hasil prediksi.csv\")"
      ],
      "execution_count": null,
      "outputs": [
        {
          "output_type": "display_data",
          "data": {
            "application/javascript": [
              "\n",
              "    async function download(id, filename, size) {\n",
              "      if (!google.colab.kernel.accessAllowed) {\n",
              "        return;\n",
              "      }\n",
              "      const div = document.createElement('div');\n",
              "      const label = document.createElement('label');\n",
              "      label.textContent = `Downloading \"${filename}\": `;\n",
              "      div.appendChild(label);\n",
              "      const progress = document.createElement('progress');\n",
              "      progress.max = size;\n",
              "      div.appendChild(progress);\n",
              "      document.body.appendChild(div);\n",
              "\n",
              "      const buffers = [];\n",
              "      let downloaded = 0;\n",
              "\n",
              "      const channel = await google.colab.kernel.comms.open(id);\n",
              "      // Send a message to notify the kernel that we're ready.\n",
              "      channel.send({})\n",
              "\n",
              "      for await (const message of channel.messages) {\n",
              "        // Send a message to notify the kernel that we're ready.\n",
              "        channel.send({})\n",
              "        if (message.buffers) {\n",
              "          for (const buffer of message.buffers) {\n",
              "            buffers.push(buffer);\n",
              "            downloaded += buffer.byteLength;\n",
              "            progress.value = downloaded;\n",
              "          }\n",
              "        }\n",
              "      }\n",
              "      const blob = new Blob(buffers, {type: 'application/binary'});\n",
              "      const a = document.createElement('a');\n",
              "      a.href = window.URL.createObjectURL(blob);\n",
              "      a.download = filename;\n",
              "      div.appendChild(a);\n",
              "      a.click();\n",
              "      div.remove();\n",
              "    }\n",
              "  "
            ],
            "text/plain": [
              "<IPython.core.display.Javascript object>"
            ]
          },
          "metadata": {
            "tags": []
          }
        },
        {
          "output_type": "display_data",
          "data": {
            "application/javascript": [
              "download(\"download_b6922b99-1a80-40a2-9544-2b88cb532fa9\", \"Data hasil prediksi.csv\", 42971)"
            ],
            "text/plain": [
              "<IPython.core.display.Javascript object>"
            ]
          },
          "metadata": {
            "tags": []
          }
        }
      ]
    }
  ]
}